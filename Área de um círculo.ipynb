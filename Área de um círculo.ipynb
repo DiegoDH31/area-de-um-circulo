{
 "cells": [
  {
   "cell_type": "code",
   "execution_count": null,
   "id": "f837f60f",
   "metadata": {
    "scrolled": true
   },
   "outputs": [
    {
     "name": "stdout",
     "output_type": "stream",
     "text": [
      "Informe o número do raio: \n"
     ]
    }
   ],
   "source": [
    "print(\"Informe o número do raio: \")\n",
    "raio = int(input())\n",
    "\n",
    "area = 3.1415 * (raio ** 2)\n",
    "\n",
    "if raio <= 0 :\n",
    "    \n",
    "    print(\"Informe um número válido!!\")\n",
    "    \n",
    "else:\n",
    "    print(f\"A área é: {area:.2f}\");\n",
    "\n"
   ]
  }
 ],
 "metadata": {
  "kernelspec": {
   "display_name": "Python 3 (ipykernel)",
   "language": "python",
   "name": "python3"
  },
  "language_info": {
   "codemirror_mode": {
    "name": "ipython",
    "version": 3
   },
   "file_extension": ".py",
   "mimetype": "text/x-python",
   "name": "python",
   "nbconvert_exporter": "python",
   "pygments_lexer": "ipython3",
   "version": "3.11.4"
  }
 },
 "nbformat": 4,
 "nbformat_minor": 5
}
